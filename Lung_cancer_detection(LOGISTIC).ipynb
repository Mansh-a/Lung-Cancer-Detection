{
 "cells": [
  {
   "cell_type": "code",
   "execution_count": 17,
   "id": "2ef97077-e91d-4573-a96d-da585ed06a82",
   "metadata": {},
   "outputs": [],
   "source": [
    "#Importing all the required packages\n",
    "import os\n",
    "import numpy as np\n",
    "from skimage import io, color, feature, transform\n",
    "from skimage.feature import graycomatrix, graycoprops, local_binary_pattern\n",
    "from sklearn.model_selection import train_test_split\n",
    "from sklearn.metrics import accuracy_score\n",
    "import matplotlib.pyplot as plt\n",
    "from sklearn.linear_model import LogisticRegression\n"
   ]
  },
  {
   "cell_type": "code",
   "execution_count": 18,
   "id": "f129f085-e414-4a99-a72f-f92d098ec26d",
   "metadata": {},
   "outputs": [],
   "source": [
    "# Paths to the images\n",
    "cancer_folder = \"C:/Users/SERVER/Desktop/ImageClassification/Lung_datasSet/lung_aca\"\n",
    "no_cancer_folder = \"C:/Users/SERVER/Desktop/ImageClassification/Lung_datasSet/lung_n\"\n",
    "cancer_scc_folder = \"C:/Users/SERVER/Desktop/ImageClassification/Lung_datasSet/lung_scc\"\n",
    "\n",
    "#File type accesptable\n",
    "valid_extensions = ['.jpg', '.jpeg', '.png', '.bmp', '.tiff']\n"
   ]
  },
  {
   "cell_type": "code",
   "execution_count": 19,
   "id": "b5576fee-ac61-4522-a855-1c4c8da932ca",
   "metadata": {},
   "outputs": [],
   "source": [
    "cancer_images =[io.imread(os.path.join(cancer_folder, image_path))\n",
    "               for image_path in os.listdir(cancer_folder)\n",
    "               if os.path.splitext(image_path)[1].lower() in valid_extensions]\n",
    "\n",
    "no_cancer_images =[io.imread(os.path.join(no_cancer_folder, image_path))\n",
    "               for image_path in os.listdir(no_cancer_folder)\n",
    "               if os.path.splitext(image_path)[1].lower() in valid_extensions]\n",
    "\n",
    "cancer_scc_images =[io.imread(os.path.join(cancer_scc_folder, image_path))\n",
    "               for image_path in os.listdir(cancer_scc_folder)\n",
    "               if os.path.splitext(image_path)[1].lower() in valid_extensions]"
   ]
  },
  {
   "cell_type": "code",
   "execution_count": 20,
   "id": "67404924-c97b-417b-9340-18e0dd798f1f",
   "metadata": {},
   "outputs": [],
   "source": [
    "#hog feature extraction function\n",
    "def extract_features(image):\n",
    "    image_resized = transform.resize(image, (128,128))\n",
    "    gray = color.rgb2gray(image_resized)\n",
    "    hog_features = feature.hog(gray, pixels_per_cell =(8,8), cells_per_block=(2,2))\n",
    "    return hog_features"
   ]
  },
  {
   "cell_type": "code",
   "execution_count": 21,
   "id": "2fc2cbc2-94fd-40ef-bfb1-bff1a26906f2",
   "metadata": {},
   "outputs": [],
   "source": [
    "#feature extraction using GLCM\n",
    "def extract_glcm_features(image):\n",
    "    if len(image.shape) == 3:\n",
    "        gray = color.rgb2gray(image)\n",
    "    else:\n",
    "        gray = image\n",
    "    image_8bit = (gray*255).astype(np.uint8)\n",
    "    glcm = graycomatrix(image_8bit, [1], [0], 256, symmetric = True, normed = True)\n",
    "    contrast = graycoprops(glcm, 'contrast')[0,0]\n",
    "    homogeneity = graycoprops(glcm, 'homogeneity')[0,0]\n",
    "    dissimilarity = graycoprops(glcm, 'dissimilarity')[0,0]\n",
    "    energy = graycoprops(glcm, 'energy')[0,0]\n",
    "    correlation = graycoprops(glcm, 'correlation')[0,0]\n",
    "    return [contrast, dissimilarity, homogeneity, energy, correlation]"
   ]
  },
  {
   "cell_type": "code",
   "execution_count": 22,
   "id": "2497ebd7-612c-4023-a98c-c28ce6563a60",
   "metadata": {},
   "outputs": [],
   "source": [
    "#feature extraction using LBP\n",
    "def extract_lbp_features(image):\n",
    "    gray = color.rgb2gray(image)\n",
    "    lbp = local_binary_pattern(gray, P = 8, R = 1, method = 'uniform')\n",
    "    lbp_hist, _=np.histogram(lbp, bins = np.arange(0, lbp.max() + 1))\n",
    "    lbp_hist = lbp_hist.astype(float)\n",
    "    lbp_hist /=(lbp_hist.sum() + 1e-6)\n",
    "    return lbp_hist"
   ]
  },
  {
   "cell_type": "code",
   "execution_count": 23,
   "id": "1cec30fb-1b84-47f8-ab73-1877dc793cef",
   "metadata": {},
   "outputs": [],
   "source": [
    "#extracting color using color histogram\n",
    "def extract_color_histogram(image, bins = 256):\n",
    "    if len(image.shape) == 2:\n",
    "        hist = np.histogram(image, bins = bins, range=(0,256))[0]\n",
    "    elif len(image.shape) == 3 and image.shape[2] == 3:\n",
    "        hist_r = np.histogram(image[:,:,0], bins=bins, range=(0,256))[0]\n",
    "        hist_g = np.histogram(image[:,:,0], bins=bins, range=(0,256))[0]\n",
    "        hist_b = np.histogram(image[:,:,0], bins=bins, range=(0,256))[0]\n",
    "        hist = np.concatenate((hist_r,hist_g,hist_b))\n",
    "    else:\n",
    "        raise ValueError(\"Unsupport image format\")\n",
    "    return hist\n",
    "        "
   ]
  },
  {
   "cell_type": "code",
   "execution_count": 24,
   "id": "96ad8498-2fef-4eef-aea6-1b23ccfdaf38",
   "metadata": {},
   "outputs": [],
   "source": [
    "# function to combine both hog and glcm and lbp feature functions\n",
    "def combined_features(image):\n",
    "    hog_feat = extract_features(image)\n",
    "    glcm_feat = extract_glcm_features(image)\n",
    "    lbp_feat = extract_lbp_features(image)\n",
    "    color_hist_feat = extract_color_histogram(image)\n",
    "    return np.concatenate([hog_feat, glcm_feat, lbp_feat, color_hist_feat])"
   ]
  },
  {
   "cell_type": "code",
   "execution_count": 25,
   "id": "0e9915bf-42a5-4318-b6e8-5e4afe99ae50",
   "metadata": {},
   "outputs": [
    {
     "name": "stderr",
     "output_type": "stream",
     "text": [
      "C:\\Users\\SERVER\\anaconda3\\Lib\\site-packages\\skimage\\feature\\texture.py:360: UserWarning: Applying `local_binary_pattern` to floating-point images may give unexpected results when small numerical differences between adjacent pixels are present. It is recommended to use this function with images of integer dtype.\n",
      "  warnings.warn(\n"
     ]
    }
   ],
   "source": [
    "cancer_combined_features = np.array([combined_features(img) for img in cancer_images])\n",
    "no_cancer_combined_features = np.array([combined_features(img) for img in no_cancer_images])\n",
    "cancer_scc_combined_features = np.array([combined_features(img) for img in cancer_scc_images])"
   ]
  },
  {
   "cell_type": "code",
   "execution_count": 26,
   "id": "d96c4ee9-8ed2-4697-9231-6e4ea2c5d757",
   "metadata": {},
   "outputs": [],
   "source": [
    "# Data preparation\n",
    "X = np.vstack((cancer_combined_features, no_cancer_combined_features, cancer_scc_combined_features))\n",
    "\n",
    "y = np.hstack((\n",
    "    np.ones(cancer_combined_features.shape[0]),        # Label 1 for lung adenocarcinoma (ACA)\n",
    "    -1 * np.ones(no_cancer_combined_features.shape[0]), # Label -1 for normal lung tissue\n",
    "    2 * np.ones(cancer_scc_combined_features.shape[0])  # Label 2 for lung squamous cell carcinoma (SCC)\n",
    "))\n"
   ]
  },
  {
   "cell_type": "code",
   "execution_count": 27,
   "id": "e2f8fd93-20da-4b14-9f62-5e5f6cb1519b",
   "metadata": {},
   "outputs": [],
   "source": [
    "#Splitting the data into and train test\n",
    "X_train, X_test, y_train, y_test = train_test_split(X, y, test_size=0.2, random_state = 0) "
   ]
  },
  {
   "cell_type": "code",
   "execution_count": 28,
   "id": "6c8621bd-4689-4702-b280-448d56f5a7ad",
   "metadata": {},
   "outputs": [
    {
     "name": "stdout",
     "output_type": "stream",
     "text": [
      "Accuracy: 80.00%\n"
     ]
    },
    {
     "name": "stderr",
     "output_type": "stream",
     "text": [
      "C:\\Users\\SERVER\\anaconda3\\Lib\\site-packages\\sklearn\\linear_model\\_logistic.py:469: ConvergenceWarning: lbfgs failed to converge (status=1):\n",
      "STOP: TOTAL NO. of ITERATIONS REACHED LIMIT.\n",
      "\n",
      "Increase the number of iterations (max_iter) or scale the data as shown in:\n",
      "    https://scikit-learn.org/stable/modules/preprocessing.html\n",
      "Please also refer to the documentation for alternative solver options:\n",
      "    https://scikit-learn.org/stable/modules/linear_model.html#logistic-regression\n",
      "  n_iter_i = _check_optimize_result(\n"
     ]
    }
   ],
   "source": [
    "logistic_classifier = LogisticRegression(solver = 'lbfgs', max_iter = 1000)\n",
    "logistic_classifier.fit(X_train, y_train)\n",
    "y_pred = logistic_classifier.predict(X_test)\n",
    "accuracy = accuracy_score(y_test, y_pred)\n",
    "print(f'Accuracy: {accuracy*100:.2f}%')"
   ]
  },
  {
   "cell_type": "code",
   "execution_count": 29,
   "id": "bb5e4686-93de-410c-9de5-c8ff4dc896f5",
   "metadata": {},
   "outputs": [],
   "source": [
    "# function to predict the validation images\n",
    "def predict_image(image_path, classifier, feature_extractor):\n",
    "    img = io.imread(image_path)\n",
    "    features = feature_extractor(img)\n",
    "    prediction = classifier.predict([features])\n",
    "    return prediction[0]"
   ]
  },
  {
   "cell_type": "code",
   "execution_count": 30,
   "id": "fac9d980-f7b2-4f10-865a-ff74ddd1c429",
   "metadata": {},
   "outputs": [
    {
     "name": "stderr",
     "output_type": "stream",
     "text": [
      "C:\\Users\\SERVER\\anaconda3\\Lib\\site-packages\\skimage\\feature\\texture.py:360: UserWarning: Applying `local_binary_pattern` to floating-point images may give unexpected results when small numerical differences between adjacent pixels are present. It is recommended to use this function with images of integer dtype.\n",
      "  warnings.warn(\n"
     ]
    },
    {
     "name": "stdout",
     "output_type": "stream",
     "text": [
      "The image lungaca1.jpeg is cancerous.\n"
     ]
    },
    {
     "name": "stderr",
     "output_type": "stream",
     "text": [
      "C:\\Users\\SERVER\\anaconda3\\Lib\\site-packages\\skimage\\feature\\texture.py:360: UserWarning: Applying `local_binary_pattern` to floating-point images may give unexpected results when small numerical differences between adjacent pixels are present. It is recommended to use this function with images of integer dtype.\n",
      "  warnings.warn(\n"
     ]
    },
    {
     "name": "stdout",
     "output_type": "stream",
     "text": [
      "The image lungaca2.jpeg is cancerous.\n"
     ]
    },
    {
     "name": "stderr",
     "output_type": "stream",
     "text": [
      "C:\\Users\\SERVER\\anaconda3\\Lib\\site-packages\\skimage\\feature\\texture.py:360: UserWarning: Applying `local_binary_pattern` to floating-point images may give unexpected results when small numerical differences between adjacent pixels are present. It is recommended to use this function with images of integer dtype.\n",
      "  warnings.warn(\n"
     ]
    },
    {
     "name": "stdout",
     "output_type": "stream",
     "text": [
      "The image lungaca3.jpeg is cancerous.\n"
     ]
    },
    {
     "name": "stderr",
     "output_type": "stream",
     "text": [
      "C:\\Users\\SERVER\\anaconda3\\Lib\\site-packages\\skimage\\feature\\texture.py:360: UserWarning: Applying `local_binary_pattern` to floating-point images may give unexpected results when small numerical differences between adjacent pixels are present. It is recommended to use this function with images of integer dtype.\n",
      "  warnings.warn(\n"
     ]
    },
    {
     "name": "stdout",
     "output_type": "stream",
     "text": [
      "The image lungaca4.jpeg is cancerous.\n"
     ]
    },
    {
     "name": "stderr",
     "output_type": "stream",
     "text": [
      "C:\\Users\\SERVER\\anaconda3\\Lib\\site-packages\\skimage\\feature\\texture.py:360: UserWarning: Applying `local_binary_pattern` to floating-point images may give unexpected results when small numerical differences between adjacent pixels are present. It is recommended to use this function with images of integer dtype.\n",
      "  warnings.warn(\n"
     ]
    },
    {
     "name": "stdout",
     "output_type": "stream",
     "text": [
      "The image lungaca5.jpeg is cancerous.\n"
     ]
    },
    {
     "name": "stderr",
     "output_type": "stream",
     "text": [
      "C:\\Users\\SERVER\\anaconda3\\Lib\\site-packages\\skimage\\feature\\texture.py:360: UserWarning: Applying `local_binary_pattern` to floating-point images may give unexpected results when small numerical differences between adjacent pixels are present. It is recommended to use this function with images of integer dtype.\n",
      "  warnings.warn(\n"
     ]
    },
    {
     "name": "stdout",
     "output_type": "stream",
     "text": [
      "The image lungn1.jpeg is non cancerous.\n"
     ]
    },
    {
     "name": "stderr",
     "output_type": "stream",
     "text": [
      "C:\\Users\\SERVER\\anaconda3\\Lib\\site-packages\\skimage\\feature\\texture.py:360: UserWarning: Applying `local_binary_pattern` to floating-point images may give unexpected results when small numerical differences between adjacent pixels are present. It is recommended to use this function with images of integer dtype.\n",
      "  warnings.warn(\n"
     ]
    },
    {
     "name": "stdout",
     "output_type": "stream",
     "text": [
      "The image lungn2.jpeg is non cancerous.\n"
     ]
    },
    {
     "name": "stderr",
     "output_type": "stream",
     "text": [
      "C:\\Users\\SERVER\\anaconda3\\Lib\\site-packages\\skimage\\feature\\texture.py:360: UserWarning: Applying `local_binary_pattern` to floating-point images may give unexpected results when small numerical differences between adjacent pixels are present. It is recommended to use this function with images of integer dtype.\n",
      "  warnings.warn(\n"
     ]
    },
    {
     "name": "stdout",
     "output_type": "stream",
     "text": [
      "The image lungn3.jpeg is non cancerous.\n"
     ]
    },
    {
     "name": "stderr",
     "output_type": "stream",
     "text": [
      "C:\\Users\\SERVER\\anaconda3\\Lib\\site-packages\\skimage\\feature\\texture.py:360: UserWarning: Applying `local_binary_pattern` to floating-point images may give unexpected results when small numerical differences between adjacent pixels are present. It is recommended to use this function with images of integer dtype.\n",
      "  warnings.warn(\n"
     ]
    },
    {
     "name": "stdout",
     "output_type": "stream",
     "text": [
      "The image lungn4.jpeg is non cancerous.\n"
     ]
    },
    {
     "name": "stderr",
     "output_type": "stream",
     "text": [
      "C:\\Users\\SERVER\\anaconda3\\Lib\\site-packages\\skimage\\feature\\texture.py:360: UserWarning: Applying `local_binary_pattern` to floating-point images may give unexpected results when small numerical differences between adjacent pixels are present. It is recommended to use this function with images of integer dtype.\n",
      "  warnings.warn(\n"
     ]
    },
    {
     "name": "stdout",
     "output_type": "stream",
     "text": [
      "The image lungn5.jpeg is non cancerous.\n"
     ]
    },
    {
     "name": "stderr",
     "output_type": "stream",
     "text": [
      "C:\\Users\\SERVER\\anaconda3\\Lib\\site-packages\\skimage\\feature\\texture.py:360: UserWarning: Applying `local_binary_pattern` to floating-point images may give unexpected results when small numerical differences between adjacent pixels are present. It is recommended to use this function with images of integer dtype.\n",
      "  warnings.warn(\n"
     ]
    },
    {
     "name": "stdout",
     "output_type": "stream",
     "text": [
      "The image lungscc1.jpeg is scc cancerous.\n"
     ]
    },
    {
     "name": "stderr",
     "output_type": "stream",
     "text": [
      "C:\\Users\\SERVER\\anaconda3\\Lib\\site-packages\\skimage\\feature\\texture.py:360: UserWarning: Applying `local_binary_pattern` to floating-point images may give unexpected results when small numerical differences between adjacent pixels are present. It is recommended to use this function with images of integer dtype.\n",
      "  warnings.warn(\n"
     ]
    },
    {
     "name": "stdout",
     "output_type": "stream",
     "text": [
      "The image lungscc2.jpeg is scc cancerous.\n"
     ]
    },
    {
     "name": "stderr",
     "output_type": "stream",
     "text": [
      "C:\\Users\\SERVER\\anaconda3\\Lib\\site-packages\\skimage\\feature\\texture.py:360: UserWarning: Applying `local_binary_pattern` to floating-point images may give unexpected results when small numerical differences between adjacent pixels are present. It is recommended to use this function with images of integer dtype.\n",
      "  warnings.warn(\n"
     ]
    },
    {
     "name": "stdout",
     "output_type": "stream",
     "text": [
      "The image lungscc3.jpeg is scc cancerous.\n"
     ]
    },
    {
     "name": "stderr",
     "output_type": "stream",
     "text": [
      "C:\\Users\\SERVER\\anaconda3\\Lib\\site-packages\\skimage\\feature\\texture.py:360: UserWarning: Applying `local_binary_pattern` to floating-point images may give unexpected results when small numerical differences between adjacent pixels are present. It is recommended to use this function with images of integer dtype.\n",
      "  warnings.warn(\n"
     ]
    },
    {
     "name": "stdout",
     "output_type": "stream",
     "text": [
      "The image lungscc4.jpeg is scc cancerous.\n",
      "The image lungscc5.jpeg is scc cancerous.\n"
     ]
    },
    {
     "name": "stderr",
     "output_type": "stream",
     "text": [
      "C:\\Users\\SERVER\\anaconda3\\Lib\\site-packages\\skimage\\feature\\texture.py:360: UserWarning: Applying `local_binary_pattern` to floating-point images may give unexpected results when small numerical differences between adjacent pixels are present. It is recommended to use this function with images of integer dtype.\n",
      "  warnings.warn(\n"
     ]
    }
   ],
   "source": [
    "# looking the images from the validation data\n",
    "check_folder = \"C:/Users/SERVER/Desktop/ImageClassification/Lung_datasSet/check\"\n",
    "for image_name in os.listdir(check_folder):\n",
    "    if os.path.splitext(image_name)[1].lower() in valid_extensions:\n",
    "        image_path = os.path.join(check_folder,image_name)\n",
    "        predicted_class = predict_image(image_path, logistic_classifier, combined_features)\n",
    "\n",
    "        if predicted_class == 1:\n",
    "            print(f\"The image {image_name} is cancerous.\")\n",
    "        elif predicted_class == 2:\n",
    "            print(f\"The image {image_name} is scc cancerous.\")\n",
    "        else:\n",
    "            print(f\"The image {image_name} is non cancerous.\")\n",
    "            \n"
   ]
  },
  {
   "cell_type": "code",
   "execution_count": 31,
   "id": "fae47dee-64b3-49d6-94e6-904aabdc44fe",
   "metadata": {},
   "outputs": [
    {
     "name": "stderr",
     "output_type": "stream",
     "text": [
      "C:\\Users\\SERVER\\anaconda3\\Lib\\site-packages\\sklearn\\linear_model\\_logistic.py:469: ConvergenceWarning: lbfgs failed to converge (status=1):\n",
      "STOP: TOTAL NO. of ITERATIONS REACHED LIMIT.\n",
      "\n",
      "Increase the number of iterations (max_iter) or scale the data as shown in:\n",
      "    https://scikit-learn.org/stable/modules/preprocessing.html\n",
      "Please also refer to the documentation for alternative solver options:\n",
      "    https://scikit-learn.org/stable/modules/linear_model.html#logistic-regression\n",
      "  n_iter_i = _check_optimize_result(\n"
     ]
    },
    {
     "name": "stdout",
     "output_type": "stream",
     "text": [
      "Accuracy: 68.33%\n"
     ]
    },
    {
     "name": "stderr",
     "output_type": "stream",
     "text": [
      "C:\\Users\\SERVER\\anaconda3\\Lib\\site-packages\\sklearn\\linear_model\\_logistic.py:469: ConvergenceWarning: lbfgs failed to converge (status=1):\n",
      "STOP: TOTAL NO. of ITERATIONS REACHED LIMIT.\n",
      "\n",
      "Increase the number of iterations (max_iter) or scale the data as shown in:\n",
      "    https://scikit-learn.org/stable/modules/preprocessing.html\n",
      "Please also refer to the documentation for alternative solver options:\n",
      "    https://scikit-learn.org/stable/modules/linear_model.html#logistic-regression\n",
      "  n_iter_i = _check_optimize_result(\n"
     ]
    },
    {
     "name": "stdout",
     "output_type": "stream",
     "text": [
      "Accuracy: 71.67%\n"
     ]
    },
    {
     "name": "stderr",
     "output_type": "stream",
     "text": [
      "C:\\Users\\SERVER\\anaconda3\\Lib\\site-packages\\sklearn\\linear_model\\_logistic.py:469: ConvergenceWarning: lbfgs failed to converge (status=1):\n",
      "STOP: TOTAL NO. of ITERATIONS REACHED LIMIT.\n",
      "\n",
      "Increase the number of iterations (max_iter) or scale the data as shown in:\n",
      "    https://scikit-learn.org/stable/modules/preprocessing.html\n",
      "Please also refer to the documentation for alternative solver options:\n",
      "    https://scikit-learn.org/stable/modules/linear_model.html#logistic-regression\n",
      "  n_iter_i = _check_optimize_result(\n"
     ]
    },
    {
     "name": "stdout",
     "output_type": "stream",
     "text": [
      "Accuracy: 73.33%\n"
     ]
    },
    {
     "name": "stderr",
     "output_type": "stream",
     "text": [
      "C:\\Users\\SERVER\\anaconda3\\Lib\\site-packages\\sklearn\\linear_model\\_logistic.py:469: ConvergenceWarning: lbfgs failed to converge (status=1):\n",
      "STOP: TOTAL NO. of ITERATIONS REACHED LIMIT.\n",
      "\n",
      "Increase the number of iterations (max_iter) or scale the data as shown in:\n",
      "    https://scikit-learn.org/stable/modules/preprocessing.html\n",
      "Please also refer to the documentation for alternative solver options:\n",
      "    https://scikit-learn.org/stable/modules/linear_model.html#logistic-regression\n",
      "  n_iter_i = _check_optimize_result(\n"
     ]
    },
    {
     "name": "stdout",
     "output_type": "stream",
     "text": [
      "Accuracy: 78.33%\n",
      "Accuracy: 78.33%\n"
     ]
    },
    {
     "name": "stderr",
     "output_type": "stream",
     "text": [
      "C:\\Users\\SERVER\\anaconda3\\Lib\\site-packages\\sklearn\\linear_model\\_logistic.py:469: ConvergenceWarning: lbfgs failed to converge (status=1):\n",
      "STOP: TOTAL NO. of ITERATIONS REACHED LIMIT.\n",
      "\n",
      "Increase the number of iterations (max_iter) or scale the data as shown in:\n",
      "    https://scikit-learn.org/stable/modules/preprocessing.html\n",
      "Please also refer to the documentation for alternative solver options:\n",
      "    https://scikit-learn.org/stable/modules/linear_model.html#logistic-regression\n",
      "  n_iter_i = _check_optimize_result(\n"
     ]
    }
   ],
   "source": [
    "# splitting the data into k folds and then feeding them to the model to avoid over fitting\n",
    "from sklearn.model_selection import StratifiedKFold\n",
    "k = 5\n",
    "skf = StratifiedKFold(n_splits = k, shuffle = True, random_state = 5)\n",
    "\n",
    "accuracies = []\n",
    "\n",
    "for train_index, test_index in skf.split(X,y):\n",
    "    X_train, X_test = X[train_index], X[test_index]\n",
    "    y_train, y_test = y[train_index], y[test_index]\n",
    "\n",
    "    logistic_classifier = LogisticRegression(solver = 'lbfgs', max_iter = 1000)\n",
    "    logistic_classifier.fit(X_train, y_train)\n",
    "    y_pred = logistic_classifier.predict(X_test)\n",
    "    accuracy = accuracy_score(y_test, y_pred)\n",
    "    accuracies.append(accuracy)\n",
    "    print(f'Accuracy: {accuracy*100:.2f}%')\n",
    "    "
   ]
  },
  {
   "cell_type": "code",
   "execution_count": 32,
   "id": "13b42688-aff4-49a8-acd2-e8473005ec82",
   "metadata": {},
   "outputs": [
    {
     "name": "stdout",
     "output_type": "stream",
     "text": [
      "Average accuracy over 5 folds:74.00%\n"
     ]
    }
   ],
   "source": [
    "average_accuracy = np.mean(accuracies)\n",
    "print(f'Average accuracy over {k} folds:{average_accuracy * 100:.2f}%') "
   ]
  },
  {
   "cell_type": "code",
   "execution_count": null,
   "id": "6339b61e-7d2a-464a-832d-bcca2df0473f",
   "metadata": {},
   "outputs": [],
   "source": []
  }
 ],
 "metadata": {
  "kernelspec": {
   "display_name": "Python 3 (ipykernel)",
   "language": "python",
   "name": "python3"
  },
  "language_info": {
   "codemirror_mode": {
    "name": "ipython",
    "version": 3
   },
   "file_extension": ".py",
   "mimetype": "text/x-python",
   "name": "python",
   "nbconvert_exporter": "python",
   "pygments_lexer": "ipython3",
   "version": "3.12.4"
  }
 },
 "nbformat": 4,
 "nbformat_minor": 5
}
